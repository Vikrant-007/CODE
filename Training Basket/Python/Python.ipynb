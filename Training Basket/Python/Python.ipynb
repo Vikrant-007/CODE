{
 "cells": [
  {
   "cell_type": "markdown",
   "id": "4a1d2090",
   "metadata": {},
   "source": [
    "## Python Overview"
   ]
  },
  {
   "cell_type": "markdown",
   "id": "394aaa2c",
   "metadata": {},
   "source": [
    "**1. Python Introduction**\n",
    "* Variables\n",
    "* Data types\n",
    "* Comments\n",
    "* Operators\n",
    "* conditional Statements\n",
    "\n",
    "\n",
    "**2. Conditional Statements**\n",
    "\n",
    "  *\tIf, Else, Elif statements\n",
    "  *\tWhile and For Loop"
   ]
  },
  {
   "cell_type": "code",
   "execution_count": null,
   "id": "fbb5264c",
   "metadata": {},
   "outputs": [],
   "source": [
    "a = 5\n",
    "a = 6.8\n",
    "print(a + 6)"
   ]
  },
  {
   "cell_type": "code",
   "execution_count": null,
   "id": "6b0c611a",
   "metadata": {},
   "outputs": [],
   "source": [
    "## strings\n",
    "name = \"shubham\"\n",
    "print(name + \"5\")"
   ]
  },
  {
   "cell_type": "code",
   "execution_count": null,
   "id": "a18d013a",
   "metadata": {},
   "outputs": [],
   "source": [
    "# airthmatic\n",
    "# assignment operator\n",
    "# logical operator"
   ]
  },
  {
   "cell_type": "code",
   "execution_count": 4,
   "id": "0e894bb2",
   "metadata": {},
   "outputs": [
    {
     "name": "stdout",
     "output_type": "stream",
     "text": [
      "10\n"
     ]
    }
   ],
   "source": [
    "a = 2\n",
    "a *= 5\n",
    "print(a)"
   ]
  },
  {
   "cell_type": "code",
   "execution_count": 5,
   "id": "9bb6c020",
   "metadata": {},
   "outputs": [],
   "source": [
    "## Conditional staments"
   ]
  },
  {
   "cell_type": "code",
   "execution_count": 9,
   "id": "b6627d69",
   "metadata": {},
   "outputs": [
    {
     "name": "stdout",
     "output_type": "stream",
     "text": [
      "shooting\n"
     ]
    }
   ],
   "source": [
    "name = \"ravan\"\n",
    "age = \"18\"\n",
    "if name == \"ram\" and age >=18:\n",
    "    print(\"you can go in\")\n",
    "    \n",
    "elif name == \"owner\":\n",
    "    print(\"you can do anything\")\n",
    "else:\n",
    "    print(\"you can not go in\")"
   ]
  },
  {
   "cell_type": "code",
   "execution_count": null,
   "id": "d8bfff5d",
   "metadata": {},
   "outputs": [],
   "source": [
    "# Number guessing game"
   ]
  },
  {
   "cell_type": "code",
   "execution_count": 18,
   "id": "b1e2c271",
   "metadata": {},
   "outputs": [
    {
     "name": "stdout",
     "output_type": "stream",
     "text": [
      "guess a number between 1 to 100 : -89\n",
      "please enter the number in the range 1 to 100\n"
     ]
    }
   ],
   "source": [
    "number = int(input(\"guess a number between 1 to 100 : \"))\n",
    "winning_number = 75\n",
    "if number <=0 or number >100:\n",
    "    print(\"please enter the number in the range 1 to 100\")\n",
    "elif number == 75:\n",
    "    print(\"you win \")\n",
    "    \n",
    "elif number >0 and number < 75:\n",
    "    print(\"the number you have guessed is less than winning_number\")\n",
    "\n",
    "else:\n",
    "     print(\"the number you have guessed is greater than winning_number\")\n"
   ]
  },
  {
   "cell_type": "markdown",
   "id": "5f521569",
   "metadata": {},
   "source": [
    "### Loops "
   ]
  },
  {
   "cell_type": "code",
   "execution_count": 22,
   "id": "982e76cb",
   "metadata": {},
   "outputs": [],
   "source": [
    "for i in range(1 , 11 , 1): ## start , End , step\n",
    "    print(i)"
   ]
  },
  {
   "cell_type": "code",
   "execution_count": 23,
   "id": "a77a615f",
   "metadata": {},
   "outputs": [],
   "source": [
    "name = \"prem\""
   ]
  },
  {
   "cell_type": "code",
   "execution_count": 25,
   "id": "ef2f5634",
   "metadata": {},
   "outputs": [
    {
     "name": "stdout",
     "output_type": "stream",
     "text": [
      "merp\n"
     ]
    }
   ],
   "source": [
    "print(name[::-1])"
   ]
  },
  {
   "cell_type": "code",
   "execution_count": null,
   "id": "785db593",
   "metadata": {},
   "outputs": [],
   "source": []
  }
 ],
 "metadata": {
  "kernelspec": {
   "display_name": "Python 3",
   "language": "python",
   "name": "python3"
  },
  "language_info": {
   "codemirror_mode": {
    "name": "ipython",
    "version": 3
   },
   "file_extension": ".py",
   "mimetype": "text/x-python",
   "name": "python",
   "nbconvert_exporter": "python",
   "pygments_lexer": "ipython3",
   "version": "3.7.10"
  }
 },
 "nbformat": 4,
 "nbformat_minor": 5
}
